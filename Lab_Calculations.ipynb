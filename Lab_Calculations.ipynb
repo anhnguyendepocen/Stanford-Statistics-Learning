{
 "cells": [
  {
   "cell_type": "code",
   "execution_count": 6,
   "metadata": {},
   "outputs": [],
   "source": [
    "import numpy as np"
   ]
  },
  {
   "cell_type": "code",
   "execution_count": 12,
   "metadata": {},
   "outputs": [
    {
     "data": {
      "text/plain": [
       "0.37754066879814546"
      ]
     },
     "execution_count": 12,
     "metadata": {},
     "output_type": "execute_result"
    }
   ],
   "source": [
    "# 4.3.R1\n",
    "\n",
    "# Predictors\n",
    "x1 = 40\n",
    "x2 = 3.5\n",
    "\n",
    "# Coefficients\n",
    "b0 = -6\n",
    "b1 = 0.05\n",
    "b2 = 1\n",
    "\n",
    "# Forumla for Multivariant logistic Regression\n",
    "# log(p(x)/1-p(x)) = b0 + b1.x1 + b2.x2\n",
    "\n",
    "# Lets calculate\n",
    "leq = b0 + b1*x1 + b2*x2 # -0.5\n",
    "\n",
    "# p(y) = exp(-leq)/1+exp(-leq)\n",
    "\n",
    "leq_exp = np.exp(-6 + 0.05*x1 + 1*x2)\n",
    "\n",
    "p = leq_exp/(1 + leq_exp)\n",
    "p"
   ]
  },
  {
   "cell_type": "markdown",
   "metadata": {},
   "source": [
    "Q2: How many hours would that student need to study to have a 50% chance of getting an A in the class?:"
   ]
  },
  {
   "cell_type": "code",
   "execution_count": 17,
   "metadata": {},
   "outputs": [],
   "source": [
    "p = 0.5\n",
    "# logit(p) = log(p) = b0 + b1.x1 + b2.x2\n",
    "p = np.log(0.5/(1-0.5))\n",
    "\n",
    "# leq = b0 + b1*X + b2*x2"
   ]
  },
  {
   "cell_type": "code",
   "execution_count": null,
   "metadata": {},
   "outputs": [],
   "source": [
    "\n",
    "# More details on Linear discriminant analysis\n",
    "# https://gerardnico.com/data_mining/discriminant_analysis\n",
    "\n",
    "# When to Use:\n",
    "# When fk(x) are Gaussian densities, with the same covariance matrix in each class, this leads to linear discriminant analysis.\n",
    "\n",
    "# The two popular forms of linear discriminant analysis are:\n",
    "\n",
    "# linear : same variance for all X\n",
    "# and quadratic : different variance for all X"
   ]
  }
 ],
 "metadata": {
  "kernelspec": {
   "display_name": "Python [conda env:tia]",
   "language": "python",
   "name": "conda-env-tia-py"
  },
  "language_info": {
   "codemirror_mode": {
    "name": "ipython",
    "version": 3
   },
   "file_extension": ".py",
   "mimetype": "text/x-python",
   "name": "python",
   "nbconvert_exporter": "python",
   "pygments_lexer": "ipython3",
   "version": "3.6.5"
  }
 },
 "nbformat": 4,
 "nbformat_minor": 2
}
